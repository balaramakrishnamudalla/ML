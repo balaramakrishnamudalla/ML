{
 "cells": [
  {
   "cell_type": "code",
   "execution_count": 5,
   "id": "b5c1fc7e",
   "metadata": {},
   "outputs": [
    {
     "name": "stdout",
     "output_type": "stream",
     "text": [
      "Epoch  1 :\n",
      "Sample  1 : x= [1. 1.]  y= 1  y_hat= 2.0  Correct\n",
      "Sample  2 : x= [-1. -1.]  y= -1  y_hat= -2.0  Correct\n",
      "Sample  3 : x= [0.  0.5]  y= -1  y_hat= 0.5  Incorrect, Update w= [1.  0.5]  b= -1\n",
      "Sample  4 : x= [0.1 0.5]  y= -1  y_hat= 0.35  Incorrect, Update w= [0.9 0. ]  b= -2\n",
      "Sample  5 : x= [0.2 0.2]  y= 1  y_hat= 0.18000000000000002  Correct\n",
      "Sample  6 : x= [0.9 0.5]  y= 1  y_hat= 0.81  Correct\n",
      "Epoch  2 :\n",
      "Sample  1 : x= [1. 1.]  y= 1  y_hat= 0.9  Correct\n",
      "Sample  2 : x= [-1. -1.]  y= -1  y_hat= -0.9  Correct\n",
      "Sample  3 : x= [0.  0.5]  y= -1  y_hat= 0.0  Incorrect, Update w= [ 0.9 -0.5]  b= -3\n",
      "Sample  4 : x= [0.1 0.5]  y= -1  y_hat= -0.15999999999999998  Correct\n",
      "Sample  5 : x= [0.2 0.2]  y= 1  y_hat= 0.08000000000000002  Correct\n",
      "Sample  6 : x= [0.9 0.5]  y= 1  y_hat= 0.56  Correct\n",
      "Epoch  3 :\n",
      "Sample  1 : x= [1. 1.]  y= 1  y_hat= 0.4  Correct\n",
      "Sample  2 : x= [-1. -1.]  y= -1  y_hat= -0.4  Correct\n",
      "Sample  3 : x= [0.  0.5]  y= -1  y_hat= -0.25  Correct\n",
      "Sample  4 : x= [0.1 0.5]  y= -1  y_hat= -0.15999999999999998  Correct\n",
      "Sample  5 : x= [0.2 0.2]  y= 1  y_hat= 0.08000000000000002  Correct\n",
      "Sample  6 : x= [0.9 0.5]  y= 1  y_hat= 0.56  Correct\n",
      "\n",
      "Final weight vector: w= [ 0.9 -0.5]  b= -3\n",
      "Decision boundary:  0.9 x1 +  -0.49999999999999994 x2 +  -3 = 0\n"
     ]
    },
    {
     "data": {
      "image/png": "[encoded data removed]",
      "text/plain": [
       "<Figure size 640x480 with 1 Axes>"
      ]
     },
     "metadata": {},
     "output_type": "display_data"
    }
   ],
   "source": [
    "import numpy as np\n",
    "import matplotlib.pyplot as plt\n",
    "\n",
    "# Sample data\n",
    "X1 = np.array([[1, 1], [-1, -1], [0, 0.5], [0.1, 0.5], [0.2, 0.2], [0.9, 0.5]])\n",
    "Y1 = np.array([1, -1, -1, -1, 1, 1])\n",
    "\n",
    "# Initial weight vector and bias\n",
    "w1 = np.array([1, 1])\n",
    "b1 = 0\n",
    "\n",
    "# Perceptron learning algorithm\n",
    "epoch = 1\n",
    "converged = False\n",
    "while not converged:\n",
    "    print(\"Epoch \", epoch, \":\")\n",
    "    misclassified = 0\n",
    "    for i in range(len(X)):\n",
    "        x1 = X1[i]\n",
    "        y1 = Y1[i]\n",
    "        y1_hat = np.dot(w1, x1) + b\n",
    "        if y1_hat*y1 <= 0:\n",
    "            w1 = w1 + y1*x1\n",
    "            b1 = b1 + y1\n",
    "            misclassified += 1\n",
    "            print(\"Sample \", i+1, \": x=\", x1, \" y=\", y1, \" y_hat=\", y1_hat, \" Incorrect, Update w=\", w1, \" b=\", b1)\n",
    "        else:\n",
    "            print(\"Sample \", i+1, \": x=\", x1, \" y=\", y1, \" y_hat=\", y1_hat, \" Correct\")\n",
    "    if misclassified == 0:\n",
    "        converged = True\n",
    "    epoch += 1\n",
    "\n",
    "# Final weight vector and decision boundary\n",
    "print(\"\\nFinal weight vector: w=\", w1, \" b=\", b1)\n",
    "print(\"Decision boundary: \", w1[0], \"x1 + \", w[1], \"x2 + \", b1, \"= 0\")\n",
    "\n",
    "# Plot decision boundary\n",
    "x1 = np.linspace(-1, 1, 100)\n",
    "y1 = -w1[0]/w1[1]*x - b1/w1[1]\n",
    "plt.scatter(X1[:,0], X1[:,1], c=Y1)\n",
    "plt.plot(x1, y1, '-r')\n",
    "plt.xlim(-2, 2)\n",
    "plt.ylim(-2, 2)\n",
    "plt.xlabel('x1')\n",
    "plt.ylabel('x2')\n",
    "plt.show()\n"
   ]
  },
  {
   "cell_type": "code",
   "execution_count": null,
   "id": "360686c4",
   "metadata": {},
   "outputs": [],
   "source": []
  },
  {
   "cell_type": "code",
   "execution_count": null,
   "id": "8fd030d5",
   "metadata": {},
   "outputs": [],
   "source": []
  }
 ],
 "metadata": {
  "kernelspec": {
   "display_name": "Python 3 (ipykernel)",
   "language": "python",
   "name": "python3"
  },
  "language_info": {
   "codemirror_mode": {
    "name": "ipython",
    "version": 3
   },
   "file_extension": ".py",
   "mimetype": "text/x-python",
   "name": "python",
   "nbconvert_exporter": "python",
   "pygments_lexer": "ipython3",
   "version": "3.9.13"
  }
 },
 "nbformat": 4,
 "nbformat_minor": 5
}
