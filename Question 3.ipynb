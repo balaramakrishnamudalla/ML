{
 "cells": [
  {
   "cell_type": "code",
   "execution_count": null,
   "id": "906da342",
   "metadata": {},
   "outputs": [],
   "source": [
    "import numpy as np\n",
    "import tensorflow as tf\n",
    "from tensorflow import keras\n",
    "from keras.models import Sequential\n",
    "import pandas as pd\n",
    "from matplotlib import pyplot as plt\n",
    "%matplotlib inline\n",
    "import os\n",
    "import cv2\n",
    "from keras.layers import Dense, Conv2D, MaxPooling2D, Flatten,GlobalAveragePooling2D\n",
    "from PIL import Image\n",
    "from sklearn.preprocessing import LabelEncoder\n",
    "from sklearn.metrics import confusion_matrix, classification_report"
   ]
  },
  {
   "cell_type": "code",
   "execution_count": null,
   "id": "bc0f98cb",
   "metadata": {},
   "outputs": [],
   "source": [
    "# Define the paths to your image and csv folders\n",
    "train_val_dir = \"F:\\\\M Tech\\\\FE Sem 2\\\\Machine Learning\\\\Neural Networks\\\\assignment 1\\\\image classification\\\\charts\\\\train_val\"\n",
    "test_dir = \"F:\\\\M Tech\\\\FE Sem 2\\\\Machine Learning\\\\Neural Networks\\\\assignment 1\\\\image classification\\\\charts\\\\test\"\n",
    "train_path_labels = \"F:\\\\M Tech\\\\FE Sem 2\\\\Machine Learning\\\\Neural Networks\\\\assignment 1\\\\image classification\\\\charts\\\\train_v\n",
    "train_val_labels = pd.read_csv(train_path_labels)"
   ]
  },
  {
   "cell_type": "code",
   "execution_count": null,
   "id": "ff01cde2",
   "metadata": {},
   "outputs": [],
   "source": [
    "# load training dataset in numpy array\n",
    "images = []\n",
    "labels = []\n",
    "for filename in os.listdir(train_val_dir):\n",
    "if filename.endswith('.png'):\n",
    "# Load the images and resize them to (128, 128) with 3 color channels\n",
    "img = cv2.imread(os.path.join(train_val_dir, filename))\n",
    "img = cv2.resize(img, (128, 128))\n",
    "img = cv2.cvtColor(img, cv2.COLOR_BGR2RGB)\n",
    "# img = Image.open(os.path.join(train_val_dir, filename))\n",
    "img_array = np.array(img)\n",
    "# Append the array to the list of images\n",
    "images.append(img_array)\n",
    "labels.append(filename)\n",
    "# Convert the string labels to numerical labels\n",
    "le = LabelEncoder()\n",
    "labels = le.fit_transform(labels)\n",
    "# Convert the lists to NumPy arrays\n",
    "images = np.array(images)\n",
    "labels = np.array(labels)\n",
    "# Save the arrays in NumPy format\n",
    "np.save('x_train.npy', images)\n",
    "np.save('y_train.npy', labels)\n",
    "x_train = np.load('x_train.npy')\n",
    "y_train = np.load('y_train.npy')"
   ]
  },
  {
   "cell_type": "code",
   "execution_count": null,
   "id": "8abb126e",
   "metadata": {},
   "outputs": [],
   "source": [
    "x_train.shape"
   ]
  },
  {
   "cell_type": "code",
   "execution_count": null,
   "id": "fcfab010",
   "metadata": {},
   "outputs": [],
   "source": [
    "x_train[:5]\n",
    "y_train[:5]"
   ]
  },
  {
   "cell_type": "code",
   "execution_count": null,
   "id": "4b6595f7",
   "metadata": {},
   "outputs": [],
   "source": [
    "# load test dataset in numpy array\n",
    "images = []\n",
    "labels = []\n",
    "for filename in os.listdir(test_dir):\n",
    "if filename.endswith('.png'):\n",
    "# Load the images and resize them to (128, 128) with 3 color channels\n",
    "img = cv2.imread(os.path.join(test_dir, filename))\n",
    "img = cv2.resize(img, (128, 128))\n",
    "img = cv2.cvtColor(img, cv2.COLOR_BGR2RGB)\n",
    "# img = Image.open(os.path.join(test_dir, filename))\n",
    "img_array = np.array(img)\n",
    "# Append the array to the list of images\n",
    "images.append(img_array)\n",
    "labels.append(filename)\n",
    "# Convert the string labels to numerical labels\n",
    "le = LabelEncoder()\n",
    "labels = le.fit_transform(labels)\n",
    "# Convert the lists to NumPy arrays\n",
    "images = np.array(images)\n",
    "labels = np.array(labels)\n",
    "# Save the arrays in NumPy format\n",
    "np.save('x_test.npy', images)\n",
    "np.save('y_test.npy', labels)\n",
    "x_test = np.load('x_test.npy')\n",
    "y_test = np.load('y_test.npy')"
   ]
  },
  {
   "cell_type": "code",
   "execution_count": null,
   "id": "6716e14f",
   "metadata": {},
   "outputs": [],
   "source": [
    "x_test.shape"
   ]
  },
  {
   "cell_type": "code",
   "execution_count": null,
   "id": "df79d8cd",
   "metadata": {},
   "outputs": [],
   "source": [
    "# check the images loaded\n",
    "plt.figure(figsize = (10,2))\n",
    "plt.imshow(x_train[10])\n",
    "plt.imshow(x_train[208])\n",
    "plt.imshow(x_train[444])"
   ]
  },
  {
   "cell_type": "code",
   "execution_count": null,
   "id": "1ac383a3",
   "metadata": {},
   "outputs": [],
   "source": [
    "# define some classes from the images we have observed\n",
    "image_classes = ['line', 'dot_line', 'hbar_categorical', 'vbar_categorical', 'pie']\n",
    "image_classes[0]\n",
    "# map the categories to the labels array i.e y_train\n",
    "label_map = {'line': 0, 'dot_line': 1, 'hbar_categorical': 2, 'vbar_categorical': 3, 'pie': 4}\n",
    "y_train = np.array([label_map[label] for label in train_val_labels['type']])\n",
    "y_train\n",
    "y_train.shape\n",
    "y_test.shape"
   ]
  },
  {
   "cell_type": "code",
   "execution_count": null,
   "id": "b4898dad",
   "metadata": {},
   "outputs": [],
   "source": [
    "# we need to map the lables from csv to the images somehow\n",
    "# function to test the chart sample\n",
    "def image_sample(x, y, index):\n",
    "plt.figure(figsize = (10,2))\n",
    "plt.imshow(x[index])\n",
    "# image_label = train_val_labels.iloc[index]['type']\n",
    "# plt.xlabel(image_label)\n",
    "plt.xlabel(image_classes[y[index]])"
   ]
  },
  {
   "cell_type": "code",
   "execution_count": null,
   "id": "fee47459",
   "metadata": {},
   "outputs": [],
   "source": [
    "image_sample(x_train,y_train,0)\n",
    "image_sample(x_train,y_train,208)\n",
    "image_sample(x_train,y_train,444)"
   ]
  },
  {
   "cell_type": "code",
   "execution_count": null,
   "id": "eef7a057",
   "metadata": {},
   "outputs": [],
   "source": [
    "# now we have mapped the corresponding labels to the image"
   ]
  },
  {
   "cell_type": "code",
   "execution_count": null,
   "id": "ecc0a6ae",
   "metadata": {},
   "outputs": [],
   "source": [
    "# normalize the image\n",
    "# x_train[0]/255\n",
    "x_train=x_train /255\n",
    "x_test=x_train /255"
   ]
  },
  {
   "cell_type": "code",
   "execution_count": null,
   "id": "65dcdbae",
   "metadata": {},
   "outputs": [],
   "source": [
    "x_test.shape"
   ]
  },
  {
   "cell_type": "code",
   "execution_count": null,
   "id": "d79c52f0",
   "metadata": {},
   "outputs": [],
   "source": [
    "# take the label for train data from csv file\n",
    "y_train_index = train_val_labels['image_index']\n",
    "y_train_type = train_val_labels['type']"
   ]
  },
  {
   "cell_type": "code",
   "execution_count": null,
   "id": "f9bc8db7",
   "metadata": {},
   "outputs": [],
   "source": [
    "y_train_type[:5]"
   ]
  },
  {
   "cell_type": "code",
   "execution_count": null,
   "id": "e9c5374d",
   "metadata": {},
   "outputs": [],
   "source": [
    "# writing a simple nn to test first\n",
    "# Define the model architecture\n",
    "model = Sequential([\n",
    "Flatten(input_shape=(128,128,3)),\n",
    "Dense(3000, activation='relu'),\n",
    "Dense(1000, activation='relu'),\n",
    "Dense(5, activation='softmax')\n",
    "])\n",
    "# Compile the model\n",
    "model.compile(optimizer='SGD', loss='sparse_categorical_crossentropy', metrics=['accuracy'])\n",
    "model.fit(x_train,y_train,epochs=10)"
   ]
  },
  {
   "cell_type": "code",
   "execution_count": null,
   "id": "7cd8a2ba",
   "metadata": {},
   "outputs": [],
   "source": [
    "# Split the training images and labels into training and validation sets\n",
    "from sklearn.model_selection import train_test_split\n",
    "x_train, x_test, y_train, y_test = train_test_split(x_train, y_train, test_size=0.2, random_state=42)"
   ]
  },
  {
   "cell_type": "code",
   "execution_count": null,
   "id": "5e61ddd9",
   "metadata": {},
   "outputs": [],
   "source": [
    "model.evaluate(x_test,y_test)"
   ]
  },
  {
   "cell_type": "code",
   "execution_count": null,
   "id": "1210170c",
   "metadata": {},
   "outputs": [],
   "source": [
    "y_pred = model.predict(x_test)\n",
    "y_pred\n",
    "y_pred_classes = [np.argmax(ele) for ele in y_pred]\n",
    "# print(\"classificaton report : \\n\",classification_report(y_test,y_pred_classes))"
   ]
  },
  {
   "cell_type": "code",
   "execution_count": null,
   "id": "875e56bc",
   "metadata": {},
   "outputs": [],
   "source": [
    "# here we see the accuracy is very low and we need to modify our nn to add more layers for better accuracy"
   ]
  },
  {
   "cell_type": "code",
   "execution_count": null,
   "id": "eaf2b36e",
   "metadata": {},
   "outputs": [],
   "source": [
    "# Print the shapes of the arrays to verify that they loaded correctly\n",
    "print(\"Train Images Shape:\", x_train.shape)\n",
    "print(\"Train Labels Shape:\", y_train.shape)\n",
    "print(\"Test Images Shape:\", x_test.shape)\n",
    "print(\"Test Labels Shape:\", y_test.shape)"
   ]
  },
  {
   "cell_type": "code",
   "execution_count": null,
   "id": "5774396a",
   "metadata": {},
   "outputs": [],
   "source": [
    "# modify the model architecture to cmnn\n",
    "cnn_model = Sequential([\n",
    "Conv2D(filters=16 ,kernel_size=(3,3), activation='relu', input_shape=(128,128,3)),\n",
    "MaxPooling2D(pool_size=(2,2)),\n",
    "Conv2D(32, (3,3), activation='relu'),\n",
    "MaxPooling2D(pool_size=(2,2)),\n",
    "Conv2D(64, (3,3), activation='relu'),\n",
    "MaxPooling2D(pool_size=(2,2)),\n",
    "Flatten(),\n",
    "Dense(128, activation='relu'),\n",
    "Dense(5, activation='softmax')\n",
    "])\n",
    "# Compile the model\n",
    "cnn_model.compile(optimizer='adam', loss='sparse_categorical_crossentropy', metrics=['accuracy'])\n",
    "# Train the model\n",
    "history = cnn_model.fit(x_train, y_train, batch_size=1000, epochs=50,validation_data=(x_test, y_test))\n",
    "# Plot the obtained loss\n",
    "plt.plot(history.history['loss'])\n",
    "plt.plot(history.history['val_loss'])\n",
    "plt.title('Model Loss')\n",
    "plt.ylabel('Loss')\n",
    "plt.xlabel('Epoch')\n",
    "plt.legend(['Train', 'Validation'], loc='upper right')\n",
    "plt.show()"
   ]
  },
  {
   "cell_type": "code",
   "execution_count": null,
   "id": "4f3c381b",
   "metadata": {},
   "outputs": [],
   "source": [
    "cnn_model.evaluate(x_test,y_test)"
   ]
  },
  {
   "cell_type": "code",
   "execution_count": null,
   "id": "6b6a6f8a",
   "metadata": {},
   "outputs": [],
   "source": [
    "image_sample(x_test,y_test,1)\n",
    "image_sample(x_test,y_test,50)\n",
    "image_sample(x_test,y_test,25)\n",
    "image_sample(x_test,y_test,30)"
   ]
  },
  {
   "cell_type": "code",
   "execution_count": null,
   "id": "c6f62458",
   "metadata": {},
   "outputs": [],
   "source": [
    "# Observation: we can see some wrong predictions"
   ]
  },
  {
   "cell_type": "code",
   "execution_count": null,
   "id": "e4b58886",
   "metadata": {},
   "outputs": [],
   "source": [
    "y_pred = cnn_model.predict(x_test)\n",
    "y_pred[:5]"
   ]
  },
  {
   "cell_type": "code",
   "execution_count": null,
   "id": "ea634b83",
   "metadata": {},
   "outputs": [],
   "source": [
    "y_classes = [np.argmax(element) for element in y_pred]\n",
    "y_classes[:5]"
   ]
  },
  {
   "cell_type": "code",
   "execution_count": null,
   "id": "3194207b",
   "metadata": {},
   "outputs": [],
   "source": [
    "y_test[:5]"
   ]
  },
  {
   "cell_type": "code",
   "execution_count": null,
   "id": "efaa8082",
   "metadata": {},
   "outputs": [],
   "source": [
    "# here we see some values are not matching"
   ]
  },
  {
   "cell_type": "code",
   "execution_count": null,
   "id": "c2340319",
   "metadata": {},
   "outputs": [],
   "source": [
    "# test actual and predicted\n",
    "# image_sample(x_test,y_test,1) #actual\n",
    "# image_classes[y_classes[1]] #predicted\n",
    "# image_sample(x_test,y_test,10) #actual\n",
    "# image_classes[y_classes[10]] #predicted\n",
    "image_sample(x_test,y_test,15) #actual\n",
    "image_classes[y_classes[15]] #predicted"
   ]
  },
  {
   "cell_type": "code",
   "execution_count": null,
   "id": "1732fbac",
   "metadata": {},
   "outputs": [],
   "source": [
    "# some values are not matching"
   ]
  },
  {
   "cell_type": "code",
   "execution_count": null,
   "id": "99501233",
   "metadata": {},
   "outputs": [],
   "source": [
    "print(\"classification report: \\n\", classification_report(y_test,y_classes))"
   ]
  },
  {
   "cell_type": "code",
   "execution_count": null,
   "id": "060d57bf",
   "metadata": {},
   "outputs": [],
   "source": [
    "# Generate the confusion matrix\n",
    "conf_mat = confusion_matrix(y_test, y_classes)\n",
    "print('Confusion Matrix:')\n",
    "print(conf_mat)"
   ]
  },
  {
   "cell_type": "code",
   "execution_count": null,
   "id": "6dce2b61",
   "metadata": {},
   "outputs": [],
   "source": [
    "# Plot the confusion matrix\n",
    "import seaborn as sn\n",
    "plt.figure(figsize = (10,10))\n",
    "sn.heatmap(conf_mat,annot=True,fmt='d')\n",
    "plt.xlabel('Predicted')\n",
    "plt.ylabel('Actual')"
   ]
  },
  {
   "cell_type": "code",
   "execution_count": null,
   "id": "7d7eb47a",
   "metadata": {},
   "outputs": [],
   "source": [
    "# for 50 iterations, we can see some promising accuracy, more training will be required for better accuracy\n",
    "# in the confusion matrix, whatever is not in diagonal is a error"
   ]
  },
  {
   "cell_type": "code",
   "execution_count": null,
   "id": "89763a7d",
   "metadata": {},
   "outputs": [],
   "source": [
    "from tensorflow.keras.applications import VGG16\n",
    "from tensorflow.keras.preprocessing.image import ImageDataGenerator\n",
    "# Load the pre-trained model\n",
    "vgg16_model = VGG16(weights='imagenet', include_top=False, input_shape=(224, 224, 3))"
   ]
  },
  {
   "cell_type": "code",
   "execution_count": null,
   "id": "40f1c30a",
   "metadata": {},
   "outputs": [],
   "source": [
    "# Replace the final classification layer with a new layer\n",
    "x = vgg16_model.output\n",
    "x = GlobalAveragePooling2D()(x)\n",
    "x = Dense(128, activation='relu')(x)\n",
    "predictions = Dense(5, activation='softmax')(x)\n",
    "pt_model = tf.keras.Model(inputs=vgg16_model.input, outputs=predictions)"
   ]
  },
  {
   "cell_type": "code",
   "execution_count": null,
   "id": "93860bef",
   "metadata": {},
   "outputs": [],
   "source": [
    "# Freeze the weights of all layers except the new classification layer\n",
    "for layer in pt_model.layers\n",
    "layer.trainable = False"
   ]
  },
  {
   "cell_type": "code",
   "execution_count": null,
   "id": "85d8df89",
   "metadata": {},
   "outputs": [],
   "source": [
    "# Compile the model with categorical crossentropy loss and Adam optimizer\n",
    "pt_model.compile(loss='categorical_crossentropy', optimizer='adam', metrics=['accuracy'])"
   ]
  },
  {
   "cell_type": "code",
   "execution_count": null,
   "id": "f8c99f9f",
   "metadata": {},
   "outputs": [],
   "source": [
    "# Print the summary of the model architecture\n",
    "pt_model.summary()"
   ]
  },
  {
   "cell_type": "code",
   "execution_count": null,
   "id": "d0921e78",
   "metadata": {},
   "outputs": [],
   "source": [
    "# Set up data generators for image augmentation and feeding data to the model\n",
    "train_datagen = ImageDataGenerator(\n",
    "rescale=1./255,\n",
    "rotation_range=20,\n",
    "width_shift_range=0.2,\n",
    "height_shift_range=0.2,\n",
    "shear_range=0.2,\n",
    "zoom_range=0.2,\n",
    "horizontal_flip=True,\n",
    "fill_mode='nearest')\n",
    "test_datagen = ImageDataGenerator(rescale=1./255)"
   ]
  },
  {
   "cell_type": "code",
   "execution_count": null,
   "id": "a8c4735b",
   "metadata": {},
   "outputs": [],
   "source": [
    "# flow method generates batches of augmented data\n",
    "train_generator = train_datagen.flow(x_train, y_train, batch_size=32)\n",
    "test_generator = train_datagen.flow(x_test, y_test, batch_size=32)"
   ]
  },
  {
   "cell_type": "code",
   "execution_count": null,
   "id": "a66f187b",
   "metadata": {},
   "outputs": [],
   "source": [
    "# Train the model with early stopping\n",
    "from tensorflow.keras.callbacks import EarlyStopping\n",
    "es = EarlyStopping(monitor='val_loss', patience=10, verbose=1, mode='min', restore_best_weights=True)\n",
    "history = pt_model.fit(train_generator, epochs=100, validation_data=test_generator, callbacks=[es])"
   ]
  }
 ],
 "metadata": {
  "kernelspec": {
   "display_name": "Python 3 (ipykernel)",
   "language": "python",
   "name": "python3"
  },
  "language_info": {
   "codemirror_mode": {
    "name": "ipython",
    "version": 3
   },
   "file_extension": ".py",
   "mimetype": "text/x-python",
   "name": "python",
   "nbconvert_exporter": "python",
   "pygments_lexer": "ipython3",
   "version": "3.9.13"
  }
 },
 "nbformat": 4,
 "nbformat_minor": 5
}
